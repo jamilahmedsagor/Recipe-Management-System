{
  "nbformat": 4,
  "nbformat_minor": 0,
  "metadata": {
    "colab": {
      "provenance": [],
      "authorship_tag": "ABX9TyP6BCXhrBsUb+dDbNUSZMH6",
      "include_colab_link": true
    },
    "kernelspec": {
      "name": "python3",
      "display_name": "Python 3"
    },
    "language_info": {
      "name": "python"
    }
  },
  "cells": [
    {
      "cell_type": "markdown",
      "metadata": {
        "id": "view-in-github",
        "colab_type": "text"
      },
      "source": [
        "<a href=\"https://colab.research.google.com/github/jamilahmedsagor/Recipe-Management-System/blob/main/Untitled1.ipynb\" target=\"_parent\"><img src=\"https://colab.research.google.com/assets/colab-badge.svg\" alt=\"Open In Colab\"/></a>"
      ]
    },
    {
      "cell_type": "code",
      "execution_count": 1,
      "metadata": {
        "colab": {
          "base_uri": "https://localhost:8080/"
        },
        "id": "ZHoRaz_AtEEv",
        "outputId": "43fbdeef-ba40-47a1-badc-605e7028df7d"
      },
      "outputs": [
        {
          "output_type": "stream",
          "name": "stdout",
          "text": [
            "hello Bangladesh\n"
          ]
        }
      ],
      "source": [
        "print('hello Bangladesh')"
      ]
    },
    {
      "cell_type": "code",
      "source": [
        "from re import T\n",
        "print(T)"
      ],
      "metadata": {
        "colab": {
          "base_uri": "https://localhost:8080/"
        },
        "id": "I1H6zL5BvokQ",
        "outputId": "1a2a419f-eded-4f56-f09e-f40a4cfdbe96"
      },
      "execution_count": 3,
      "outputs": [
        {
          "output_type": "stream",
          "name": "stdout",
          "text": [
            "re.TEMPLATE\n"
          ]
        }
      ]
    }
  ]
}